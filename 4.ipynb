{
 "cells": [
  {
   "cell_type": "code",
   "execution_count": 1,
   "id": "595e08ef",
   "metadata": {},
   "outputs": [],
   "source": [
    "import pandas as pd\n",
    "import numpy as np\n",
    "import seaborn as sns\n",
    "import matplotlib.pyplot as plt\n",
    "adventure_works_df = pd.ExcelFile('D:\\\\daneshkar\\\\HW-L03-02-statistics\\\\Adventure Works 2020.xlsx')"
   ]
  },
  {
   "cell_type": "code",
   "execution_count": 2,
   "id": "d69663a9",
   "metadata": {},
   "outputs": [],
   "source": [
    "products_df = adventure_works_df.parse('Products')\n",
    "sales_df = adventure_works_df.parse('Sales')"
   ]
  },
  {
   "cell_type": "code",
   "execution_count": 3,
   "id": "30e38c62",
   "metadata": {},
   "outputs": [
    {
     "data": {
      "text/html": [
       "<div>\n",
       "<style scoped>\n",
       "    .dataframe tbody tr th:only-of-type {\n",
       "        vertical-align: middle;\n",
       "    }\n",
       "\n",
       "    .dataframe tbody tr th {\n",
       "        vertical-align: top;\n",
       "    }\n",
       "\n",
       "    .dataframe thead th {\n",
       "        text-align: right;\n",
       "    }\n",
       "</style>\n",
       "<table border=\"1\" class=\"dataframe\">\n",
       "  <thead>\n",
       "    <tr style=\"text-align: right;\">\n",
       "      <th></th>\n",
       "      <th>ProductKey</th>\n",
       "      <th>ProductName</th>\n",
       "      <th>Category</th>\n",
       "      <th>SalesAmount</th>\n",
       "    </tr>\n",
       "  </thead>\n",
       "  <tbody>\n",
       "    <tr>\n",
       "      <th>0</th>\n",
       "      <td>336</td>\n",
       "      <td>Road-650 Black, 62</td>\n",
       "      <td>Bikes</td>\n",
       "      <td>699.0982</td>\n",
       "    </tr>\n",
       "    <tr>\n",
       "      <th>1</th>\n",
       "      <td>346</td>\n",
       "      <td>Mountain-100 Silver, 44</td>\n",
       "      <td>Bikes</td>\n",
       "      <td>3399.9900</td>\n",
       "    </tr>\n",
       "    <tr>\n",
       "      <th>2</th>\n",
       "      <td>346</td>\n",
       "      <td>Mountain-100 Silver, 44</td>\n",
       "      <td>Bikes</td>\n",
       "      <td>3399.9900</td>\n",
       "    </tr>\n",
       "    <tr>\n",
       "      <th>3</th>\n",
       "      <td>310</td>\n",
       "      <td>Road-150 Red, 62</td>\n",
       "      <td>Bikes</td>\n",
       "      <td>3578.2700</td>\n",
       "    </tr>\n",
       "    <tr>\n",
       "      <th>4</th>\n",
       "      <td>346</td>\n",
       "      <td>Mountain-100 Silver, 44</td>\n",
       "      <td>Bikes</td>\n",
       "      <td>3399.9900</td>\n",
       "    </tr>\n",
       "  </tbody>\n",
       "</table>\n",
       "</div>"
      ],
      "text/plain": [
       "   ProductKey              ProductName Category  SalesAmount\n",
       "0         336       Road-650 Black, 62    Bikes     699.0982\n",
       "1         346  Mountain-100 Silver, 44    Bikes    3399.9900\n",
       "2         346  Mountain-100 Silver, 44    Bikes    3399.9900\n",
       "3         310         Road-150 Red, 62    Bikes    3578.2700\n",
       "4         346  Mountain-100 Silver, 44    Bikes    3399.9900"
      ]
     },
     "execution_count": 3,
     "metadata": {},
     "output_type": "execute_result"
    }
   ],
   "source": [
    "merged = pd.merge(sales_df , products_df ,  how = 'left' , on = 'ProductKey')\n",
    "\n",
    "merged[['ProductKey' , 'ProductName' , 'Category' , 'SalesAmount']].head()"
   ]
  },
  {
   "cell_type": "code",
   "execution_count": 4,
   "id": "87f99a74",
   "metadata": {},
   "outputs": [
    {
     "data": {
      "text/html": [
       "<div>\n",
       "<style scoped>\n",
       "    .dataframe tbody tr th:only-of-type {\n",
       "        vertical-align: middle;\n",
       "    }\n",
       "\n",
       "    .dataframe tbody tr th {\n",
       "        vertical-align: top;\n",
       "    }\n",
       "\n",
       "    .dataframe thead th {\n",
       "        text-align: right;\n",
       "    }\n",
       "</style>\n",
       "<table border=\"1\" class=\"dataframe\">\n",
       "  <thead>\n",
       "    <tr style=\"text-align: right;\">\n",
       "      <th></th>\n",
       "      <th>Category</th>\n",
       "      <th>SalesAmount</th>\n",
       "    </tr>\n",
       "  </thead>\n",
       "  <tbody>\n",
       "    <tr>\n",
       "      <th>0</th>\n",
       "      <td>Accessories</td>\n",
       "      <td>19.415936</td>\n",
       "    </tr>\n",
       "    <tr>\n",
       "      <th>1</th>\n",
       "      <td>Bikes</td>\n",
       "      <td>1862.423193</td>\n",
       "    </tr>\n",
       "    <tr>\n",
       "      <th>2</th>\n",
       "      <td>Clothing</td>\n",
       "      <td>37.333547</td>\n",
       "    </tr>\n",
       "  </tbody>\n",
       "</table>\n",
       "</div>"
      ],
      "text/plain": [
       "      Category  SalesAmount\n",
       "0  Accessories    19.415936\n",
       "1        Bikes  1862.423193\n",
       "2     Clothing    37.333547"
      ]
     },
     "execution_count": 4,
     "metadata": {},
     "output_type": "execute_result"
    }
   ],
   "source": [
    "mean_category = merged.groupby('Category')['SalesAmount'].mean().reset_index()\n",
    "\n",
    "mean_category.head()"
   ]
  },
  {
   "cell_type": "code",
   "execution_count": 5,
   "id": "2c89a6db",
   "metadata": {},
   "outputs": [
    {
     "data": {
      "text/html": [
       "<div>\n",
       "<style scoped>\n",
       "    .dataframe tbody tr th:only-of-type {\n",
       "        vertical-align: middle;\n",
       "    }\n",
       "\n",
       "    .dataframe tbody tr th {\n",
       "        vertical-align: top;\n",
       "    }\n",
       "\n",
       "    .dataframe thead th {\n",
       "        text-align: right;\n",
       "    }\n",
       "</style>\n",
       "<table border=\"1\" class=\"dataframe\">\n",
       "  <thead>\n",
       "    <tr style=\"text-align: right;\">\n",
       "      <th></th>\n",
       "      <th>SubCategory</th>\n",
       "      <th>SalesAmount</th>\n",
       "    </tr>\n",
       "  </thead>\n",
       "  <tbody>\n",
       "    <tr>\n",
       "      <th>0</th>\n",
       "      <td>Bike Racks</td>\n",
       "      <td>120.000000</td>\n",
       "    </tr>\n",
       "    <tr>\n",
       "      <th>1</th>\n",
       "      <td>Bike Stands</td>\n",
       "      <td>159.000000</td>\n",
       "    </tr>\n",
       "    <tr>\n",
       "      <th>2</th>\n",
       "      <td>Bottles and Cages</td>\n",
       "      <td>7.116676</td>\n",
       "    </tr>\n",
       "    <tr>\n",
       "      <th>3</th>\n",
       "      <td>Caps</td>\n",
       "      <td>8.990000</td>\n",
       "    </tr>\n",
       "    <tr>\n",
       "      <th>4</th>\n",
       "      <td>Cleaners</td>\n",
       "      <td>7.950000</td>\n",
       "    </tr>\n",
       "  </tbody>\n",
       "</table>\n",
       "</div>"
      ],
      "text/plain": [
       "         SubCategory  SalesAmount\n",
       "0         Bike Racks   120.000000\n",
       "1        Bike Stands   159.000000\n",
       "2  Bottles and Cages     7.116676\n",
       "3               Caps     8.990000\n",
       "4           Cleaners     7.950000"
      ]
     },
     "execution_count": 5,
     "metadata": {},
     "output_type": "execute_result"
    }
   ],
   "source": [
    "mean_sub_category = merged.groupby('SubCategory')['SalesAmount'].mean().reset_index()\n",
    "\n",
    "mean_sub_category.head()"
   ]
  },
  {
   "cell_type": "code",
   "execution_count": 6,
   "id": "b5bcd0ad",
   "metadata": {},
   "outputs": [],
   "source": [
    "merged_bikes_df = merged[merged['Category'] == 'Bikes']\n",
    "merged_bikes_df = merged_bikes_df[['Category', 'SalesAmount']]\n",
    "\n",
    "merged_accessories_df = merged[merged['Category'] == 'Accessories']\n",
    "merged_accessories_df = merged_accessories_df[['Category', 'SalesAmount']]\n",
    "\n",
    "merged_clothing_df = merged[merged['Category'] == 'Clothing']\n",
    "merged_clothing_df = merged_clothing_df[['Category', 'SalesAmount']]\n",
    "\n"
   ]
  },
  {
   "cell_type": "code",
   "execution_count": 7,
   "id": "7fff9917",
   "metadata": {},
   "outputs": [
    {
     "data": {
      "image/png": "[encoded data removed]",
      "text/plain": [
       "<Figure size 1600x700 with 3 Axes>"
      ]
     },
     "metadata": {},
     "output_type": "display_data"
    }
   ],
   "source": [
    "import matplotlib.pyplot as plt\n",
    "import seaborn as sns\n",
    "\n",
    "fig, axes = plt.subplots(1, 3, figsize=(16, 7))\n",
    "\n",
    "\n",
    "box_color = \"#03346E\"\n",
    "median_color = \"#FF5722\" \n",
    "\n",
    "\n",
    "sns.boxplot(\n",
    "    data=merged_bikes_df,\n",
    "    y='SalesAmount',\n",
    "    ax=axes[0],\n",
    "    color=box_color,\n",
    "    medianprops=dict(color=median_color, linewidth=2)\n",
    ")\n",
    "axes[0].set_xlabel('bikes', color='#393E46')\n",
    "axes[0].tick_params(axis='y', labelsize=10, labelcolor='#393E46')\n",
    "\n",
    "\n",
    "sns.boxplot(\n",
    "    data=merged_accessories_df,\n",
    "    y='SalesAmount',\n",
    "    ax=axes[1],\n",
    "    color=box_color,\n",
    "    medianprops=dict(color=median_color, linewidth=2)\n",
    ")\n",
    "axes[1].set_xlabel('accessories', color='#393E46')\n",
    "axes[1].tick_params(axis='y', labelsize=10, labelcolor='#393E46')\n",
    "axes[1].set_ylabel('')      \n",
    "\n",
    "\n",
    "sns.boxplot(\n",
    "    data=merged_clothing_df,\n",
    "    y='SalesAmount',\n",
    "    ax=axes[2],\n",
    "    color=box_color,\n",
    "    medianprops=dict(color=median_color, linewidth=2)\n",
    ")\n",
    "axes[2].set_xlabel('clothing', color='#393E46')\n",
    "axes[2].tick_params(axis='y', labelsize=10, labelcolor='#393E46')\n",
    "axes[2].set_ylabel('')\n",
    "\n",
    "\n",
    "# Grid on q1, q3, min, max, median\n",
    "value_bikes = merged_bikes_df['SalesAmount']\n",
    "value_accessories = merged_accessories_df['SalesAmount']\n",
    "value_clothing = merged_clothing_df['SalesAmount']\n"
   ]
  }
 ],
 "metadata": {
  "kernelspec": {
   "display_name": "Python 3",
   "language": "python",
   "name": "python3"
  },
  "language_info": {
   "codemirror_mode": {
    "name": "ipython",
    "version": 3
   },
   "file_extension": ".py",
   "mimetype": "text/x-python",
   "name": "python",
   "nbconvert_exporter": "python",
   "pygments_lexer": "ipython3",
   "version": "3.13.2"
  }
 },
 "nbformat": 4,
 "nbformat_minor": 5
}
